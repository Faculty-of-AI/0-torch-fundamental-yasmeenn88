{
 "cells": [
  {
   "metadata": {},
   "cell_type": "markdown",
   "source": [
    "# 00. PyTorch Fundamentals Exercises\n",
    "\n",
    "### 1. Documentation reading\n",
    "\n",
    "A big part of deep learning (and learning to code in general) is getting familiar with the documentation of a certain framework you're using. We'll be using the PyTorch documentation a lot throughout the rest of this course. So I'd recommend spending 10-minutes reading the following (it's okay if you don't get some things for now, the focus is not yet full understanding, it's awareness):\n",
    "  * The documentation on [`torch.Tensor`](https://pytorch.org/docs/stable/tensors.html#torch-tensor).\n",
    "  * The documentation on [`torch.cuda`](https://pytorch.org/docs/master/notes/cuda.html#cuda-semantics).\n",
    "\n"
   ],
   "id": "1b7c1745f893cfc2"
  },
  {
   "metadata": {},
   "cell_type": "markdown",
   "source": "### 2. Create a random tensor with shape `(7, 7)`.\n",
   "id": "715cf63b2cd5dd45"
  },
  {
   "metadata": {
    "ExecuteTime": {
     "end_time": "2025-10-19T17:56:45.314053Z",
     "start_time": "2025-10-19T17:56:43.049201Z"
    }
   },
   "cell_type": "code",
   "source": [
    "# Import torch\n",
    "import torch\n",
    "\n",
    "# Create random tensor\n",
    "random_tensor = torch.rand(size=(7,7))\n",
    "random_tensor"
   ],
   "id": "1be224b2b2b1f394",
   "outputs": [
    {
     "data": {
      "text/plain": [
       "tensor([[0.5878, 0.3750, 0.3806, 0.9686, 0.9000, 0.2063, 0.0977],\n",
       "        [0.3668, 0.5157, 0.5313, 0.2648, 0.6227, 0.3770, 0.2261],\n",
       "        [0.9176, 0.4971, 0.3127, 0.8527, 0.8244, 0.5946, 0.9475],\n",
       "        [0.3074, 0.6310, 0.3224, 0.2775, 0.6572, 0.7256, 0.1003],\n",
       "        [0.2021, 0.7594, 0.2100, 0.8590, 0.8472, 0.8836, 0.0317],\n",
       "        [0.8418, 0.4639, 0.3704, 0.8589, 0.4251, 0.1235, 0.9336],\n",
       "        [0.2944, 0.6769, 0.4224, 0.6154, 0.3716, 0.5538, 0.1729]])"
      ]
     },
     "execution_count": 1,
     "metadata": {},
     "output_type": "execute_result"
    }
   ],
   "execution_count": 1
  },
  {
   "metadata": {},
   "cell_type": "markdown",
   "source": "### 3. Perform a matrix multiplication on the tensor from 2 with another random tensor with shape `(1, 7)` (hint: you may have to transpose the second tensor).\n",
   "id": "6945bcf31a30f1ad"
  },
  {
   "metadata": {
    "ExecuteTime": {
     "end_time": "2025-10-19T17:57:01.347850Z",
     "start_time": "2025-10-19T17:57:01.340873Z"
    }
   },
   "cell_type": "code",
   "source": [
    "# Create another random tensor\n",
    "random_tensor_2 = torch.rand(size = (1,7))\n",
    "# Perform matrix multiplication\n",
    "print(random_tensor @ random_tensor_2.T)"
   ],
   "id": "7bf0b6bb2f290a",
   "outputs": [
    {
     "name": "stdout",
     "output_type": "stream",
     "text": [
      "tensor([[1.4151],\n",
      "        [1.2355],\n",
      "        [2.3952],\n",
      "        [1.3469],\n",
      "        [1.4599],\n",
      "        [1.8171],\n",
      "        [1.1518]])\n"
     ]
    }
   ],
   "execution_count": 2
  },
  {
   "metadata": {},
   "cell_type": "markdown",
   "source": [
    "### 4. Set the random seed to `0` and do 2 & 3 over again.\n",
    "\n",
    "The output should be:\n",
    "```\n",
    "(tensor([[1.8542],\n",
    "         [1.9611],\n",
    "         [2.2884],\n",
    "         [3.0481],\n",
    "         [1.7067],\n",
    "         [2.5290],\n",
    "         [1.7989]]), torch.Size([7, 1]))\n",
    "```"
   ],
   "id": "be63055e8e73e3f"
  },
  {
   "metadata": {
    "ExecuteTime": {
     "end_time": "2025-10-19T17:57:19.284869Z",
     "start_time": "2025-10-19T17:57:19.271635Z"
    }
   },
   "cell_type": "code",
   "source": [
    "# Set manual seed\n",
    "torch.manual_seed(0)\n",
    "\n",
    "# Create two random tensors\n",
    "t1 = torch.rand(size=(7,7))\n",
    "t2 = torch.rand(size = (1,7))\n",
    "\n",
    "# Matrix multiply tensors\n",
    "torch.matmul(t1,t2.T)"
   ],
   "id": "df34905e08aa03e2",
   "outputs": [
    {
     "data": {
      "text/plain": [
       "tensor([[1.8542],\n",
       "        [1.9611],\n",
       "        [2.2884],\n",
       "        [3.0481],\n",
       "        [1.7067],\n",
       "        [2.5290],\n",
       "        [1.7989]])"
      ]
     },
     "execution_count": 4,
     "metadata": {},
     "output_type": "execute_result"
    }
   ],
   "execution_count": 4
  },
  {
   "metadata": {},
   "cell_type": "markdown",
   "source": [
    "### 5. Speaking of random seeds, we saw how to set it with `torch.manual_seed()` but is there a GPU equivalent? (hint: you'll need to look into the documentation for `torch.cuda` for this one)\n",
    "  * If there is, set the GPU random seed to `1234`."
   ],
   "id": "b558749c815024c9"
  },
  {
   "metadata": {},
   "cell_type": "markdown",
   "source": [
    "`- Notes from documentation\n",
    "   - `torch.cuda.manual_seed_all(seed)`\n",
    "      - Set the seed for generating random numbers on all GPUs.\n",
    "\n",
    "   - `torch.cuda.manual_seed(seed)`\n",
    "      - Set the seed for generating random numbers for the current GPU."
   ],
   "id": "f8f648e85b7e6e84"
  },
  {
   "metadata": {
    "ExecuteTime": {
     "end_time": "2025-10-19T18:08:24.950932Z",
     "start_time": "2025-10-19T18:08:24.947396Z"
    }
   },
   "cell_type": "code",
   "source": [
    "# Set random seed on the GPU\n",
    "torch.cuda.manual_seed(1234)"
   ],
   "id": "e0dd981fad10f4c8",
   "outputs": [],
   "execution_count": 16
  },
  {
   "metadata": {},
   "cell_type": "markdown",
   "source": [
    "\n",
    "### 6. Create two random tensors of shape `(2, 3)` and send them both to the GPU (you'll need access to a GPU for this). Set `torch.manual_seed(1234)` when creating the tensors (this doesn't have to be the GPU random seed). The output should be something like:\n",
    "\n",
    "```\n",
    "Device: cuda\n",
    "(tensor([[0.0290, 0.4019, 0.2598],\n",
    "         [0.3666, 0.0583, 0.7006]], device='cuda:0'),\n",
    " tensor([[0.0518, 0.4681, 0.6738],\n",
    "         [0.3315, 0.7837, 0.5631]], device='cuda:0'))\n",
    "```"
   ],
   "id": "6660ab335199b80"
  },
  {
   "metadata": {
    "ExecuteTime": {
     "end_time": "2025-10-19T18:08:01.479222Z",
     "start_time": "2025-10-19T18:08:01.474229Z"
    }
   },
   "cell_type": "code",
   "source": [
    "# to make sure\n",
    "import torch\n",
    "\n",
    "if torch.cuda.is_available():\n",
    "    device_count = torch.cuda.device_count()\n",
    "    print(f\"Number of available GPUs: {device_count}\")\n",
    "\n",
    "    for i in range(device_count):\n",
    "        gpu_name = torch.cuda.get_device_name(i)\n",
    "        print(f\"GPU {i}: {gpu_name}\")\n",
    "else:\n",
    "    print(\"No GPU available\")"
   ],
   "id": "2f8f22e5885c47a0",
   "outputs": [
    {
     "name": "stdout",
     "output_type": "stream",
     "text": [
      "Number of available GPUs: 1\n",
      "GPU 0: Quadro T2000\n"
     ]
    }
   ],
   "execution_count": 15
  },
  {
   "metadata": {
    "ExecuteTime": {
     "end_time": "2025-10-19T18:16:18.306210Z",
     "start_time": "2025-10-19T18:16:18.071583Z"
    }
   },
   "cell_type": "code",
   "source": [
    "# Set random seed\n",
    "\n",
    "torch.manual_seed(1234)\n",
    "# Check for access to GPU\n",
    "# I did it in the previous cell\n",
    "\n",
    "# Create two random tensors on GPU\n",
    "Tensor_on_GPU_1= torch.rand(size=(2,3),\n",
    "                            device = torch.device(\"cuda:0\"))\n",
    "Tensor_on_GPU_2= torch.rand(size=(2,3),\n",
    "                            device = torch.device(\"cuda:0\"))\n",
    "Tensor_on_GPU_1 , Tensor_on_GPU_2"
   ],
   "id": "94f1b4af5c4f9288",
   "outputs": [
    {
     "data": {
      "text/plain": [
       "(tensor([[0.1272, 0.8167, 0.5440],\n",
       "         [0.6601, 0.2721, 0.9737]], device='cuda:0'),\n",
       " tensor([[0.6208, 0.0276, 0.3255],\n",
       "         [0.1114, 0.6812, 0.3608]], device='cuda:0'))"
      ]
     },
     "execution_count": 18,
     "metadata": {},
     "output_type": "execute_result"
    }
   ],
   "execution_count": 18
  },
  {
   "metadata": {},
   "cell_type": "markdown",
   "source": [
    "\n",
    "### 7. Perform a matrix multiplication on the tensors you created in 6 (again, you may have to adjust the shapes of one of the tensors).\n",
    "\n",
    "The output should look like:\n",
    "```\n",
    "(tensor([[0.3647, 0.4709],\n",
    "         [0.5184, 0.5617]], device='cuda:0'), torch.Size([2, 2]))\n",
    "```"
   ],
   "id": "52c1a66ec8c91e92"
  },
  {
   "metadata": {
    "ExecuteTime": {
     "end_time": "2025-10-19T18:19:27.348315Z",
     "start_time": "2025-10-19T18:19:27.337989Z"
    }
   },
   "cell_type": "code",
   "source": [
    "# Perform matmul on tensor_A and tensor_B\n",
    "matmul = Tensor_on_GPU_1 @ Tensor_on_GPU_2.T\n",
    "matmul , matmul.shape"
   ],
   "id": "92b66c765d7c703d",
   "outputs": [
    {
     "data": {
      "text/plain": [
       "(tensor([[0.2786, 0.7668],\n",
       "         [0.7343, 0.6102]], device='cuda:0'),\n",
       " torch.Size([2, 2]))"
      ]
     },
     "execution_count": 20,
     "metadata": {},
     "output_type": "execute_result"
    }
   ],
   "execution_count": 20
  },
  {
   "metadata": {},
   "cell_type": "markdown",
   "source": "### 8. Find the maximum and minimum values of the output of 7.\n",
   "id": "404c2f03420b19a7"
  },
  {
   "metadata": {
    "ExecuteTime": {
     "end_time": "2025-10-19T18:20:32.629021Z",
     "start_time": "2025-10-19T18:20:32.622982Z"
    }
   },
   "cell_type": "code",
   "source": [
    "# Find max\n",
    "max = matmul.max()\n",
    "\n",
    "# Find min\n",
    "min = matmul.min()\n",
    "\n",
    "print(f'max: {max} , min: {min}')"
   ],
   "id": "11f8c371aef4e0a5",
   "outputs": [
    {
     "name": "stdout",
     "output_type": "stream",
     "text": [
      "max: 0.7667766809463501 , min: 0.27863210439682007\n"
     ]
    }
   ],
   "execution_count": 21
  },
  {
   "metadata": {},
   "cell_type": "markdown",
   "source": "### 9. Find the maximum and minimum index values of the output of 7.",
   "id": "c5c724629444f5e"
  },
  {
   "metadata": {
    "ExecuteTime": {
     "end_time": "2025-10-19T18:33:43.106889Z",
     "start_time": "2025-10-19T18:33:43.099581Z"
    }
   },
   "cell_type": "code",
   "source": [
    "# Find arg max\n",
    "print(f\"Index of max : {matmul.argmax(keepdim=True)}\")\n",
    "# Find arg min\n",
    "print(f\"Index of min : {matmul.argmin(keepdim=True)}\")\n"
   ],
   "id": "ec6f79a8c49565ba",
   "outputs": [
    {
     "name": "stdout",
     "output_type": "stream",
     "text": [
      "Index of max : tensor([[1]], device='cuda:0')\n",
      "Index of min : tensor([[0]], device='cuda:0')\n"
     ]
    }
   ],
   "execution_count": 25
  },
  {
   "metadata": {},
   "cell_type": "markdown",
   "source": [
    "\n",
    "### 10. Make a random tensor with shape `(1, 1, 1, 10)` and then create a new tensor with all the `1` dimensions removed to be left with a tensor of shape `(10)`. Set the seed to `7` when you create it and print out the first tensor and it's shape as well as the second tensor and it's shape.\n",
    "\n",
    "The output should look like:\n",
    "\n",
    "```\n",
    "tensor([[[[0.5349, 0.1988, 0.6592, 0.6569, 0.2328, 0.4251, 0.2071, 0.6297,\n",
    "           0.3653, 0.8513]]]]) torch.Size([1, 1, 1, 10])\n",
    "tensor([0.5349, 0.1988, 0.6592, 0.6569, 0.2328, 0.4251, 0.2071, 0.6297, 0.3653,\n",
    "        0.8513]) torch.Size([10])\n",
    "```"
   ],
   "id": "91a2865ef0746122"
  },
  {
   "metadata": {
    "ExecuteTime": {
     "end_time": "2025-10-19T18:38:46.354769Z",
     "start_time": "2025-10-19T18:38:46.340736Z"
    }
   },
   "cell_type": "code",
   "source": [
    "# Set seed\n",
    "torch.manual_seed(7)\n",
    "\n",
    "# Create random tensor\n",
    "tensor_x = torch.rand(size=(1,1,1,10))\n",
    "\n",
    "# Remove single dimensions\n",
    "tensor_y = tensor_x.squeeze()\n",
    "\n",
    "# Print out tensors and their shapes\n",
    "\n",
    "print(f\"main tensor {tensor_x} , Shape {tensor_x.shape}\")\n",
    "print(f\"squeeze tensor {tensor_y} , Shape {tensor_y.shape}\")"
   ],
   "id": "7811d701fc28bf5b",
   "outputs": [
    {
     "name": "stdout",
     "output_type": "stream",
     "text": [
      "main tensor tensor([[[[0.5349, 0.1988, 0.6592, 0.6569, 0.2328, 0.4251, 0.2071, 0.6297,\n",
      "           0.3653, 0.8513]]]]) , Shape torch.Size([1, 1, 1, 10])\n",
      "squeeze tensor tensor([0.5349, 0.1988, 0.6592, 0.6569, 0.2328, 0.4251, 0.2071, 0.6297, 0.3653,\n",
      "        0.8513]) , Shape torch.Size([10])\n"
     ]
    }
   ],
   "execution_count": 26
  },
  {
   "metadata": {},
   "cell_type": "markdown",
   "source": "### check",
   "id": "fb630c5c8a9227eb"
  },
  {
   "metadata": {
    "ExecuteTime": {
     "end_time": "2025-10-19T18:06:48.004530Z",
     "start_time": "2025-10-19T18:06:47.949503Z"
    }
   },
   "cell_type": "code",
   "source": "torch.cuda.is_available()",
   "id": "2616b68b2a90bfa0",
   "outputs": [
    {
     "data": {
      "text/plain": [
       "True"
      ]
     },
     "execution_count": 12,
     "metadata": {},
     "output_type": "execute_result"
    }
   ],
   "execution_count": 12
  },
  {
   "metadata": {
    "ExecuteTime": {
     "end_time": "2025-10-19T18:07:04.027125Z",
     "start_time": "2025-10-19T18:07:04.020672Z"
    }
   },
   "cell_type": "code",
   "source": "torch.cuda.device_count()",
   "id": "34ed63444afdb769",
   "outputs": [
    {
     "data": {
      "text/plain": [
       "1"
      ]
     },
     "execution_count": 13,
     "metadata": {},
     "output_type": "execute_result"
    }
   ],
   "execution_count": 13
  },
  {
   "metadata": {
    "ExecuteTime": {
     "end_time": "2025-10-19T18:07:32.371116Z",
     "start_time": "2025-10-19T18:07:32.353498Z"
    }
   },
   "cell_type": "code",
   "source": "",
   "id": "baac7019a32213e5",
   "outputs": [
    {
     "name": "stdout",
     "output_type": "stream",
     "text": [
      "Number of available GPUs: 1\n",
      "GPU 0: Quadro T2000\n"
     ]
    }
   ],
   "execution_count": 14
  },
  {
   "metadata": {},
   "cell_type": "code",
   "outputs": [],
   "execution_count": null,
   "source": "",
   "id": "fdb306c6e757e99f"
  }
 ],
 "metadata": {
  "kernelspec": {
   "display_name": "Python 3",
   "language": "python",
   "name": "python3"
  },
  "language_info": {
   "codemirror_mode": {
    "name": "ipython",
    "version": 2
   },
   "file_extension": ".py",
   "mimetype": "text/x-python",
   "name": "python",
   "nbconvert_exporter": "python",
   "pygments_lexer": "ipython2",
   "version": "2.7.6"
  }
 },
 "nbformat": 4,
 "nbformat_minor": 5
}
